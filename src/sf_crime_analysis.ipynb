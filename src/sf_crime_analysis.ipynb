{
 "cells": [
  {
   "cell_type": "code",
   "execution_count": 1,
   "metadata": {},
   "outputs": [],
   "source": [
    "import numpy as np\n",
    "import pandas as pd\n",
    "\n",
    "import matplotlib.pyplot as plt\n",
    "plt.style.use('ggplot')\n",
    "\n",
    "import geopandas as gpd\n",
    "import descartes\n",
    "from shapely.geometry import Point , Polygon\n",
    "\n",
    "import folium\n",
    "from folium import plugins\n",
    "import json\n"
   ]
  },
  {
   "cell_type": "code",
   "execution_count": 67,
   "metadata": {},
   "outputs": [
    {
     "name": "stdout",
     "output_type": "stream",
     "text": [
      "The autoreload extension is already loaded. To reload it, use:\n",
      "  %reload_ext autoreload\n"
     ]
    }
   ],
   "source": [
    "%load_ext autoreload\n",
    "%autoreload 2\n",
    "%reload_ext autoreload\n",
    "import helper as H\n",
    "import plot_helper as P"
   ]
  },
  {
   "cell_type": "code",
   "execution_count": 3,
   "metadata": {},
   "outputs": [
    {
     "name": "stdout",
     "output_type": "stream",
     "text": [
      "Incident Datetime,Incident Date,Incident Time,Incident Year,Incident Day of Week,Report Datetime,Row ID,Incident ID,Incident Number,CAD Number,Report Type Code,Report Type Description,Filed Online,Incident Code,Incident Category,Incident Subcategory,Incident Description,Resolution,Intersection,CNN,Police District,Analysis Neighborhood,Supervisor District,Latitude,Longitude,point\r\n",
      "2018/01/01 09:26:00 AM,2018/01/01,09:26,2018,Monday,2018/01/01 09:27:00 AM,61893007041,618930,171052174,173641140,VS,Vehicle Supplement,,07041,Recovered Vehicle,Recovered Vehicle,\"Vehicle, Recovered, Auto\",Open or Active,03RD ST \\ HOLLISTER AVE,20471000,Southern,Bayview Hunters Point,10,37.72171587946975,-122.39594382884452,\"(37.72171587946975, -122.39594382884452)\"\r\n"
     ]
    }
   ],
   "source": [
    "# read 2 rows of the file before loading it\n",
    "!head -2 ../data/incident_reports.csv"
   ]
  },
  {
   "cell_type": "code",
   "execution_count": 4,
   "metadata": {},
   "outputs": [],
   "source": [
    "police_df = pd.read_csv('../data/incident_reports.csv')"
   ]
  },
  {
   "cell_type": "code",
   "execution_count": 6,
   "metadata": {},
   "outputs": [
    {
     "data": {
      "text/html": [
       "<div>\n",
       "<style scoped>\n",
       "    .dataframe tbody tr th:only-of-type {\n",
       "        vertical-align: middle;\n",
       "    }\n",
       "\n",
       "    .dataframe tbody tr th {\n",
       "        vertical-align: top;\n",
       "    }\n",
       "\n",
       "    .dataframe thead th {\n",
       "        text-align: right;\n",
       "    }\n",
       "</style>\n",
       "<table border=\"1\" class=\"dataframe\">\n",
       "  <thead>\n",
       "    <tr style=\"text-align: right;\">\n",
       "      <th></th>\n",
       "      <th>Incident Datetime</th>\n",
       "      <th>Incident Date</th>\n",
       "      <th>Incident Time</th>\n",
       "      <th>Incident Year</th>\n",
       "      <th>Incident Day of Week</th>\n",
       "      <th>Report Datetime</th>\n",
       "      <th>Row ID</th>\n",
       "      <th>Incident ID</th>\n",
       "      <th>Incident Number</th>\n",
       "      <th>CAD Number</th>\n",
       "      <th>...</th>\n",
       "      <th>Incident Description</th>\n",
       "      <th>Resolution</th>\n",
       "      <th>Intersection</th>\n",
       "      <th>CNN</th>\n",
       "      <th>Police District</th>\n",
       "      <th>Analysis Neighborhood</th>\n",
       "      <th>Supervisor District</th>\n",
       "      <th>Latitude</th>\n",
       "      <th>Longitude</th>\n",
       "      <th>point</th>\n",
       "    </tr>\n",
       "  </thead>\n",
       "  <tbody>\n",
       "    <tr>\n",
       "      <th>0</th>\n",
       "      <td>2018/01/01 09:26:00 AM</td>\n",
       "      <td>2018/01/01</td>\n",
       "      <td>09:26</td>\n",
       "      <td>2018</td>\n",
       "      <td>Monday</td>\n",
       "      <td>2018/01/01 09:27:00 AM</td>\n",
       "      <td>61893007041</td>\n",
       "      <td>618930</td>\n",
       "      <td>171052174</td>\n",
       "      <td>173641140.0</td>\n",
       "      <td>...</td>\n",
       "      <td>Vehicle, Recovered, Auto</td>\n",
       "      <td>Open or Active</td>\n",
       "      <td>03RD ST \\ HOLLISTER AVE</td>\n",
       "      <td>20471000.0</td>\n",
       "      <td>Southern</td>\n",
       "      <td>Bayview Hunters Point</td>\n",
       "      <td>10.0</td>\n",
       "      <td>37.721716</td>\n",
       "      <td>-122.395944</td>\n",
       "      <td>(37.72171587946975, -122.39594382884452)</td>\n",
       "    </tr>\n",
       "    <tr>\n",
       "      <th>1</th>\n",
       "      <td>2018/01/01 02:30:00 AM</td>\n",
       "      <td>2018/01/01</td>\n",
       "      <td>02:30</td>\n",
       "      <td>2018</td>\n",
       "      <td>Monday</td>\n",
       "      <td>2018/01/01 08:21:00 AM</td>\n",
       "      <td>61893105041</td>\n",
       "      <td>618931</td>\n",
       "      <td>180000768</td>\n",
       "      <td>180010668.0</td>\n",
       "      <td>...</td>\n",
       "      <td>Burglary, Residence, Forcible Entry</td>\n",
       "      <td>Open or Active</td>\n",
       "      <td>LISBON ST \\ PERSIA AVE</td>\n",
       "      <td>21719000.0</td>\n",
       "      <td>Ingleside</td>\n",
       "      <td>Excelsior</td>\n",
       "      <td>11.0</td>\n",
       "      <td>37.722000</td>\n",
       "      <td>-122.433606</td>\n",
       "      <td>(37.722000219874225, -122.43360633930074)</td>\n",
       "    </tr>\n",
       "  </tbody>\n",
       "</table>\n",
       "<p>2 rows × 26 columns</p>\n",
       "</div>"
      ],
      "text/plain": [
       "        Incident Datetime Incident Date Incident Time  Incident Year  \\\n",
       "0  2018/01/01 09:26:00 AM    2018/01/01         09:26           2018   \n",
       "1  2018/01/01 02:30:00 AM    2018/01/01         02:30           2018   \n",
       "\n",
       "  Incident Day of Week         Report Datetime       Row ID  Incident ID  \\\n",
       "0               Monday  2018/01/01 09:27:00 AM  61893007041       618930   \n",
       "1               Monday  2018/01/01 08:21:00 AM  61893105041       618931   \n",
       "\n",
       "   Incident Number   CAD Number  ...                 Incident Description  \\\n",
       "0        171052174  173641140.0  ...             Vehicle, Recovered, Auto   \n",
       "1        180000768  180010668.0  ...  Burglary, Residence, Forcible Entry   \n",
       "\n",
       "       Resolution             Intersection         CNN Police District  \\\n",
       "0  Open or Active  03RD ST \\ HOLLISTER AVE  20471000.0        Southern   \n",
       "1  Open or Active   LISBON ST \\ PERSIA AVE  21719000.0       Ingleside   \n",
       "\n",
       "   Analysis Neighborhood Supervisor District   Latitude   Longitude  \\\n",
       "0  Bayview Hunters Point                10.0  37.721716 -122.395944   \n",
       "1              Excelsior                11.0  37.722000 -122.433606   \n",
       "\n",
       "                                       point  \n",
       "0   (37.72171587946975, -122.39594382884452)  \n",
       "1  (37.722000219874225, -122.43360633930074)  \n",
       "\n",
       "[2 rows x 26 columns]"
      ]
     },
     "execution_count": 6,
     "metadata": {},
     "output_type": "execute_result"
    }
   ],
   "source": [
    "police_df.head(2)"
   ]
  },
  {
   "cell_type": "code",
   "execution_count": 7,
   "metadata": {},
   "outputs": [],
   "source": [
    "# replace NaN values with 0\n",
    "police_df= police_df.fillna(0)"
   ]
  },
  {
   "cell_type": "code",
   "execution_count": 17,
   "metadata": {},
   "outputs": [],
   "source": [
    "unwanted= ['Incident Datetime', 'Report Type Code' , 'Report Type Description' , 'CAD Number' , 'CNN', \n",
    "                              'Supervisor District' , 'Resolution', 'Filed Online', 'Incident Number',\n",
    "                              'Incident Code' , 'Police District']\n",
    "extract= H.extract_df(police_df, unwanted)"
   ]
  },
  {
   "cell_type": "code",
   "execution_count": 18,
   "metadata": {},
   "outputs": [
    {
     "data": {
      "text/html": [
       "<div>\n",
       "<style scoped>\n",
       "    .dataframe tbody tr th:only-of-type {\n",
       "        vertical-align: middle;\n",
       "    }\n",
       "\n",
       "    .dataframe tbody tr th {\n",
       "        vertical-align: top;\n",
       "    }\n",
       "\n",
       "    .dataframe thead th {\n",
       "        text-align: right;\n",
       "    }\n",
       "</style>\n",
       "<table border=\"1\" class=\"dataframe\">\n",
       "  <thead>\n",
       "    <tr style=\"text-align: right;\">\n",
       "      <th></th>\n",
       "      <th>Incident Date</th>\n",
       "      <th>Incident Time</th>\n",
       "      <th>Incident Year</th>\n",
       "      <th>Incident Day of Week</th>\n",
       "      <th>Report Datetime</th>\n",
       "      <th>Row ID</th>\n",
       "      <th>Incident ID</th>\n",
       "      <th>Incident Category</th>\n",
       "      <th>Incident Subcategory</th>\n",
       "      <th>Incident Description</th>\n",
       "      <th>Intersection</th>\n",
       "      <th>Analysis Neighborhood</th>\n",
       "      <th>Latitude</th>\n",
       "      <th>Longitude</th>\n",
       "      <th>point</th>\n",
       "    </tr>\n",
       "  </thead>\n",
       "  <tbody>\n",
       "    <tr>\n",
       "      <th>0</th>\n",
       "      <td>2018/01/01</td>\n",
       "      <td>09:26</td>\n",
       "      <td>2018</td>\n",
       "      <td>Monday</td>\n",
       "      <td>2018/01/01 09:27:00 AM</td>\n",
       "      <td>61893007041</td>\n",
       "      <td>618930</td>\n",
       "      <td>Recovered Vehicle</td>\n",
       "      <td>Recovered Vehicle</td>\n",
       "      <td>Vehicle, Recovered, Auto</td>\n",
       "      <td>03RD ST \\ HOLLISTER AVE</td>\n",
       "      <td>Bayview Hunters Point</td>\n",
       "      <td>37.721716</td>\n",
       "      <td>-122.395944</td>\n",
       "      <td>(37.72171587946975, -122.39594382884452)</td>\n",
       "    </tr>\n",
       "    <tr>\n",
       "      <th>1</th>\n",
       "      <td>2018/01/01</td>\n",
       "      <td>02:30</td>\n",
       "      <td>2018</td>\n",
       "      <td>Monday</td>\n",
       "      <td>2018/01/01 08:21:00 AM</td>\n",
       "      <td>61893105041</td>\n",
       "      <td>618931</td>\n",
       "      <td>Burglary</td>\n",
       "      <td>Burglary - Residential</td>\n",
       "      <td>Burglary, Residence, Forcible Entry</td>\n",
       "      <td>LISBON ST \\ PERSIA AVE</td>\n",
       "      <td>Excelsior</td>\n",
       "      <td>37.722000</td>\n",
       "      <td>-122.433606</td>\n",
       "      <td>(37.722000219874225, -122.43360633930074)</td>\n",
       "    </tr>\n",
       "  </tbody>\n",
       "</table>\n",
       "</div>"
      ],
      "text/plain": [
       "  Incident Date Incident Time  Incident Year Incident Day of Week  \\\n",
       "0    2018/01/01         09:26           2018               Monday   \n",
       "1    2018/01/01         02:30           2018               Monday   \n",
       "\n",
       "          Report Datetime       Row ID  Incident ID  Incident Category  \\\n",
       "0  2018/01/01 09:27:00 AM  61893007041       618930  Recovered Vehicle   \n",
       "1  2018/01/01 08:21:00 AM  61893105041       618931           Burglary   \n",
       "\n",
       "     Incident Subcategory                 Incident Description  \\\n",
       "0       Recovered Vehicle             Vehicle, Recovered, Auto   \n",
       "1  Burglary - Residential  Burglary, Residence, Forcible Entry   \n",
       "\n",
       "              Intersection  Analysis Neighborhood   Latitude   Longitude  \\\n",
       "0  03RD ST \\ HOLLISTER AVE  Bayview Hunters Point  37.721716 -122.395944   \n",
       "1   LISBON ST \\ PERSIA AVE              Excelsior  37.722000 -122.433606   \n",
       "\n",
       "                                       point  \n",
       "0   (37.72171587946975, -122.39594382884452)  \n",
       "1  (37.722000219874225, -122.43360633930074)  "
      ]
     },
     "execution_count": 18,
     "metadata": {},
     "output_type": "execute_result"
    }
   ],
   "source": [
    "extract.head(2)"
   ]
  },
  {
   "cell_type": "code",
   "execution_count": 20,
   "metadata": {},
   "outputs": [],
   "source": [
    "extract = H.to_datetime(extract,'Incident Date' , 'Incident Time')"
   ]
  },
  {
   "cell_type": "code",
   "execution_count": 21,
   "metadata": {},
   "outputs": [
    {
     "data": {
      "text/html": [
       "<div>\n",
       "<style scoped>\n",
       "    .dataframe tbody tr th:only-of-type {\n",
       "        vertical-align: middle;\n",
       "    }\n",
       "\n",
       "    .dataframe tbody tr th {\n",
       "        vertical-align: top;\n",
       "    }\n",
       "\n",
       "    .dataframe thead th {\n",
       "        text-align: right;\n",
       "    }\n",
       "</style>\n",
       "<table border=\"1\" class=\"dataframe\">\n",
       "  <thead>\n",
       "    <tr style=\"text-align: right;\">\n",
       "      <th></th>\n",
       "      <th>Incident Date</th>\n",
       "      <th>Incident Time</th>\n",
       "      <th>Incident Year</th>\n",
       "      <th>Incident Day of Week</th>\n",
       "      <th>Report Datetime</th>\n",
       "      <th>Row ID</th>\n",
       "      <th>Incident ID</th>\n",
       "      <th>Incident Category</th>\n",
       "      <th>Incident Subcategory</th>\n",
       "      <th>Incident Description</th>\n",
       "      <th>Intersection</th>\n",
       "      <th>Analysis Neighborhood</th>\n",
       "      <th>Latitude</th>\n",
       "      <th>Longitude</th>\n",
       "      <th>point</th>\n",
       "    </tr>\n",
       "  </thead>\n",
       "  <tbody>\n",
       "    <tr>\n",
       "      <th>0</th>\n",
       "      <td>2018-01-01</td>\n",
       "      <td>1900-01-01 09:26:00</td>\n",
       "      <td>2018</td>\n",
       "      <td>Monday</td>\n",
       "      <td>2018/01/01 09:27:00 AM</td>\n",
       "      <td>61893007041</td>\n",
       "      <td>618930</td>\n",
       "      <td>Recovered Vehicle</td>\n",
       "      <td>Recovered Vehicle</td>\n",
       "      <td>Vehicle, Recovered, Auto</td>\n",
       "      <td>03RD ST \\ HOLLISTER AVE</td>\n",
       "      <td>Bayview Hunters Point</td>\n",
       "      <td>37.721716</td>\n",
       "      <td>-122.395944</td>\n",
       "      <td>(37.72171587946975, -122.39594382884452)</td>\n",
       "    </tr>\n",
       "    <tr>\n",
       "      <th>1</th>\n",
       "      <td>2018-01-01</td>\n",
       "      <td>1900-01-01 02:30:00</td>\n",
       "      <td>2018</td>\n",
       "      <td>Monday</td>\n",
       "      <td>2018/01/01 08:21:00 AM</td>\n",
       "      <td>61893105041</td>\n",
       "      <td>618931</td>\n",
       "      <td>Burglary</td>\n",
       "      <td>Burglary - Residential</td>\n",
       "      <td>Burglary, Residence, Forcible Entry</td>\n",
       "      <td>LISBON ST \\ PERSIA AVE</td>\n",
       "      <td>Excelsior</td>\n",
       "      <td>37.722000</td>\n",
       "      <td>-122.433606</td>\n",
       "      <td>(37.722000219874225, -122.43360633930074)</td>\n",
       "    </tr>\n",
       "  </tbody>\n",
       "</table>\n",
       "</div>"
      ],
      "text/plain": [
       "  Incident Date       Incident Time  Incident Year Incident Day of Week  \\\n",
       "0    2018-01-01 1900-01-01 09:26:00           2018               Monday   \n",
       "1    2018-01-01 1900-01-01 02:30:00           2018               Monday   \n",
       "\n",
       "          Report Datetime       Row ID  Incident ID  Incident Category  \\\n",
       "0  2018/01/01 09:27:00 AM  61893007041       618930  Recovered Vehicle   \n",
       "1  2018/01/01 08:21:00 AM  61893105041       618931           Burglary   \n",
       "\n",
       "     Incident Subcategory                 Incident Description  \\\n",
       "0       Recovered Vehicle             Vehicle, Recovered, Auto   \n",
       "1  Burglary - Residential  Burglary, Residence, Forcible Entry   \n",
       "\n",
       "              Intersection  Analysis Neighborhood   Latitude   Longitude  \\\n",
       "0  03RD ST \\ HOLLISTER AVE  Bayview Hunters Point  37.721716 -122.395944   \n",
       "1   LISBON ST \\ PERSIA AVE              Excelsior  37.722000 -122.433606   \n",
       "\n",
       "                                       point  \n",
       "0   (37.72171587946975, -122.39594382884452)  \n",
       "1  (37.722000219874225, -122.43360633930074)  "
      ]
     },
     "execution_count": 21,
     "metadata": {},
     "output_type": "execute_result"
    }
   ],
   "source": [
    "extract.head(2)"
   ]
  },
  {
   "cell_type": "code",
   "execution_count": 58,
   "metadata": {
    "scrolled": true
   },
   "outputs": [
    {
     "data": {
      "image/png": "[encoded data removed]",
      "text/plain": [
       "<Figure size 600x400 with 1 Axes>"
      ]
     },
     "metadata": {},
     "output_type": "display_data"
    }
   ],
   "source": [
    "H.plot_crime_per_year(extract, [2018,2019, 2020], 'Incident Year');"
   ]
  },
  {
   "cell_type": "code",
   "execution_count": 61,
   "metadata": {},
   "outputs": [],
   "source": [
    "df_2018 = H.crime_per_year(extract, 2018, 'Incident Year')"
   ]
  },
  {
   "cell_type": "code",
   "execution_count": 65,
   "metadata": {},
   "outputs": [],
   "source": [
    "df_2019 = H.crime_per_year(extract , 2019, 'Incident Year')"
   ]
  },
  {
   "cell_type": "code",
   "execution_count": 66,
   "metadata": {},
   "outputs": [],
   "source": [
    "df_2020 = H.crime_per_year(extract , 2020, 'Incident Year')"
   ]
  },
  {
   "cell_type": "code",
   "execution_count": null,
   "metadata": {},
   "outputs": [],
   "source": []
  }
 ],
 "metadata": {
  "kernelspec": {
   "display_name": "Python 3",
   "language": "python",
   "name": "python3"
  },
  "language_info": {
   "codemirror_mode": {
    "name": "ipython",
    "version": 3
   },
   "file_extension": ".py",
   "mimetype": "text/x-python",
   "name": "python",
   "nbconvert_exporter": "python",
   "pygments_lexer": "ipython3",
   "version": "3.8.5"
  }
 },
 "nbformat": 4,
 "nbformat_minor": 4
}
